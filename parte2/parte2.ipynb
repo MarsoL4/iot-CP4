{
  "cells": [
    {
      "cell_type": "code",
      "execution_count": null,
      "metadata": {
        "collapsed": true,
        "id": "dZ55BGcvLDL1"
      },
      "outputs": [],
      "source": [
        "pip install pycaret==3.3.2 m2cgen pandas scikit-learn numpy"
      ]
    },
    {
      "cell_type": "code",
      "execution_count": null,
      "metadata": {
        "id": "8ZUKGovWK4_a"
      },
      "outputs": [],
      "source": [
        "import pandas as pd\n",
        "from pycaret.classification import *\n",
        "import m2cgen as m2c\n",
        "\n",
        "# Carregue o CSV\n",
        "df = pd.read_csv(\"sensor_dados.csv\")\n",
        "features = [\"mean\",\"std\",\"rms\",\"ptp\"]\n",
        "target = \"label\"\n",
        "\n",
        "# PyCaret setup\n",
        "s = setup(data=df[features+[target]], target=target,\n",
        "          session_id=42, normalize=True, fold=5, verbose=False)\n",
        "\n",
        "# 1) Decision Tree\n",
        "dt = create_model(\"dt\")\n",
        "dt_final = finalize_model(dt)\n",
        "open(\"model_dt.c\", \"w\").write(m2c.export_to_c(dt_final))\n",
        "\n",
        "# 2) SVM\n",
        "svm = create_model(\"svm\")\n",
        "svm_final = finalize_model(svm)\n",
        "open(\"model_svm.c\", \"w\").write(m2c.export_to_c(svm_final))\n",
        "\n",
        "# Mostre as métricas\n",
        "print(pull())  # Mostra a tabela com Accuracy, F1, etc."
      ]
    }
  ],
  "metadata": {
    "colab": {
      "provenance": []
    },
    "kernelspec": {
      "display_name": "Python 3",
      "name": "python3"
    },
    "language_info": {
      "codemirror_mode": {
        "name": "ipython",
        "version": 3
      },
      "file_extension": ".py",
      "mimetype": "text/x-python",
      "name": "python",
      "nbconvert_exporter": "python",
      "pygments_lexer": "ipython3",
      "version": "3.11.8"
    }
  },
  "nbformat": 4,
  "nbformat_minor": 0
}
